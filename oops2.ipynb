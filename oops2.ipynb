{
 "cells": [
  {
   "cell_type": "markdown",
   "id": "3d1d4676-d1e5-42dd-9c00-2f290bfcfc11",
   "metadata": {},
   "source": [
    "Q1, Create a vehicle class with an init method having instance variables as name_of_vehicle, max_speed\n",
    "and average_of_vehicle."
   ]
  },
  {
   "cell_type": "code",
   "execution_count": 5,
   "id": "87f1c46f-4284-4866-98ff-9fe14675c92e",
   "metadata": {},
   "outputs": [
    {
     "name": "stdout",
     "output_type": "stream",
     "text": [
      "Name is Ferrari maximum speed is 120 km/h and  average is 20.\n"
     ]
    }
   ],
   "source": [
    "class Vehicle:\n",
    "    def __init__(self,name_of_vehicle,max_speed,average_of_vehicle):\n",
    "        self.name_of_vehicle = name_of_vehicle\n",
    "        self.max_speed = max_speed\n",
    "        self.average_of_vehicle = average_of_vehicle\n",
    "\n",
    "    def show_details(self):\n",
    "        print(f\"Name is {self.name_of_vehicle} maximum speed is {self.max_speed} km/h and  average is {self.average_of_vehicle}.\")\n",
    "\n",
    "obj = Vehicle(\"Ferrari\",120,20)\n",
    "obj.show_details()"
   ]
  },
  {
   "cell_type": "markdown",
   "id": "230f6bd6-b048-49e3-9435-ee0dfedc64fa",
   "metadata": {},
   "source": [
    "Q2. Create a child class car from the vehicle class created in Que 1, which will inherit the vehicle class.\n",
    "Create a method named seating_capacity which takes capacity as an argument and returns the name of\n",
    "the vehicle and its seating capacity."
   ]
  },
  {
   "cell_type": "code",
   "execution_count": 15,
   "id": "ad7bd12c-c3b8-4d3e-a137-f2c3dcd51642",
   "metadata": {},
   "outputs": [
    {
     "name": "stdout",
     "output_type": "stream",
     "text": [
      "(5, 'Ferrari')\n"
     ]
    }
   ],
   "source": [
    "class Vehicle:\n",
    "    def __init__(self,name_of_vehicle,max_speed,average_of_vehicle):\n",
    "        self.name_of_vehicle = name_of_vehicle\n",
    "        self.max_speed = max_speed\n",
    "        self.average_of_vehicle = average_of_vehicle\n",
    "        \n",
    "        def show_details(self):\n",
    "            print(f\"Name is {self.name_of_vehicle} maximum speed is {self.max_speed} km/h and  average is {self.average_of_vehicle}.\")\n",
    "\n",
    "class Car(Vehicle):\n",
    "    def __init__(self,name_of_vehicle, max_speed, average_of_vehicle,cap):\n",
    "        super().__init__(name_of_vehicle, max_speed, average_of_vehicle)\n",
    "        self.cap = cap\n",
    "    def  seating_capacity(self):\n",
    "        return self.cap\n",
    "\n",
    "obj = Car(\"Ferrari\",120,20,5)\n",
    "ans = obj.seating_capacity(),obj.name_of_vehicle\n",
    "print(ans)\n",
    "    "
   ]
  },
  {
   "cell_type": "markdown",
   "id": "566b8f33-4017-4d19-ae6e-3af5a99860cc",
   "metadata": {},
   "source": [
    "Q3. What is multiple inheritance? Write a python code to demonstrate multiple inheritance."
   ]
  },
  {
   "cell_type": "code",
   "execution_count": 16,
   "id": "7e2a8cfd-4b7b-4fba-aab7-c987dd6b9776",
   "metadata": {},
   "outputs": [
    {
     "name": "stdout",
     "output_type": "stream",
     "text": [
      "I am children\n",
      "I am father\n",
      "I am mother\n"
     ]
    }
   ],
   "source": [
    "'''\n",
    "Multiple inheritence --> When child class inherits more than one parent class then it is multiple inheritence.\n",
    "'''\n",
    "class Father:\n",
    "    def father_class(self):\n",
    "        print(\"I am father\")\n",
    "class Mother:\n",
    "    def mother_class(self):\n",
    "        print(\"I am mother\")\n",
    "class Child(Father,Mother):\n",
    "    def child_class(self):\n",
    "        print(\"I am children\")\n",
    "\n",
    "obj = Child()\n",
    "obj.child_class()\n",
    "obj.father_class()\n",
    "obj.mother_class()"
   ]
  },
  {
   "cell_type": "markdown",
   "id": "6b1900b9-2079-4131-99d9-128d29fb0e25",
   "metadata": {},
   "source": [
    "Q4. What are getter and setter in python? Create a class and create a getter and a setter method in this\n",
    "class."
   ]
  },
  {
   "cell_type": "code",
   "execution_count": 24,
   "id": "082b0ca9-0154-41e0-a5ff-064645dadc26",
   "metadata": {},
   "outputs": [
    {
     "name": "stdout",
     "output_type": "stream",
     "text": [
      "10\n",
      "25\n",
      "Age can not be negative.\n"
     ]
    }
   ],
   "source": [
    "class Student:\n",
    "    def __init__(self, name, age):\n",
    "        self.name = name\n",
    "        self._age = age\n",
    "        \n",
    "    @property\n",
    "    def age(self):\n",
    "        return self._age\n",
    "\n",
    "    @age.setter\n",
    "    def age(self, new_age):\n",
    "        if new_age > 0:\n",
    "            self._age = new_age\n",
    "        else:\n",
    "            print(\"Age can not be negative.\")\n",
    "\n",
    "s1 = Student(\"Ram\", 10)\n",
    "print(s1.age)\n",
    "s1.age = 25\n",
    "print(s1.age)\n",
    "s1.age = -5\n"
   ]
  },
  {
   "cell_type": "markdown",
   "id": "74f13771-3cb4-428f-a968-c6fb45c5cfbd",
   "metadata": {},
   "source": [
    "Q5.What is method overriding in python? Write a python code to demonstrate method overriding."
   ]
  },
  {
   "cell_type": "code",
   "execution_count": null,
   "id": "bedf336d-807e-44fc-9d3b-b61067e6be22",
   "metadata": {},
   "outputs": [],
   "source": [
    "#Answer 5\n",
    "'''\n",
    "Method Overriding is sub concept of Polymorphism.When same method with same name is present in both parent and child claas then claas one is prefered\n",
    "or with multiple parent class one with first parameterized is considered.\n",
    "'''\n",
    "class Animal:\n",
    "    def speak(self):\n",
    "        print(\"Animals make sounds\")\n",
    "\n",
    "class Dog(Animal):\n",
    "    def speak(self):\n",
    "        print(\"Dog barks\")\n",
    "\n",
    "a = Animal()\n",
    "a.speak()\n",
    "d = Dog()\n",
    "d.speak()\n"
   ]
  }
 ],
 "metadata": {
  "kernelspec": {
   "display_name": "Python 3 (ipykernel)",
   "language": "python",
   "name": "python3"
  },
  "language_info": {
   "codemirror_mode": {
    "name": "ipython",
    "version": 3
   },
   "file_extension": ".py",
   "mimetype": "text/x-python",
   "name": "python",
   "nbconvert_exporter": "python",
   "pygments_lexer": "ipython3",
   "version": "3.12.7"
  }
 },
 "nbformat": 4,
 "nbformat_minor": 5
}
