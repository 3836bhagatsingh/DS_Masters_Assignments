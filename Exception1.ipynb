{
 "cells": [
  {
   "cell_type": "markdown",
   "id": "eb4cd233-5191-4c31-bb68-15dabdde8e0b",
   "metadata": {},
   "source": [
    "Q1. What is an Exception in python? Write the difference between Exceptions and Syntax errors."
   ]
  },
  {
   "cell_type": "code",
   "execution_count": 1,
   "id": "684d4269-f919-4b84-901f-08e248b5c889",
   "metadata": {},
   "outputs": [
    {
     "name": "stdout",
     "output_type": "stream",
     "text": [
      "Execution occurs :  division by zero\n"
     ]
    }
   ],
   "source": [
    "#Answer 1-\n",
    "'''\n",
    "Exception is the error in program that occur during execution of program.It is unlike syntax error.\n",
    "\n",
    "EXception -> It occurs during program execution.\n",
    "             It occurs at runtime.\n",
    "             It can be handled using try-block expressions.\n",
    "             Eg. division by zero.\n",
    "\n",
    "Syntax Error -> It occur when there is wrong syntax in program\n",
    "                It occurs at compile time.\n",
    "                It can not be handled only be fixed.\n",
    "                Eg. Syntax error\n",
    "\n",
    "'''\n",
    "try:\n",
    "    print(10/0)\n",
    "except Exception as e:\n",
    "    print(\"Execution occurs : \",e)\n",
    "else:\n",
    "    print(\"Final block of code.\")\n",
    "\n",
    "# Syntax error\n",
    "#  print(\"hello)"
   ]
  },
  {
   "cell_type": "markdown",
   "id": "a7536cea-dd3b-4d8b-bbc9-11c3a7c655c8",
   "metadata": {},
   "source": [
    "Q2. What happens when an exception is not handled? Explain with an example."
   ]
  },
  {
   "cell_type": "code",
   "execution_count": 2,
   "id": "211aa8b9-8b3b-4cce-98cb-46e9583d9332",
   "metadata": {},
   "outputs": [
    {
     "ename": "ZeroDivisionError",
     "evalue": "division by zero",
     "output_type": "error",
     "traceback": [
      "\u001b[1;31m---------------------------------------------------------------------------\u001b[0m",
      "\u001b[1;31mZeroDivisionError\u001b[0m                         Traceback (most recent call last)",
      "Cell \u001b[1;32mIn[2], line 7\u001b[0m\n\u001b[0;32m      5\u001b[0m a \u001b[38;5;241m=\u001b[39m \u001b[38;5;241m10\u001b[39m\n\u001b[0;32m      6\u001b[0m b \u001b[38;5;241m=\u001b[39m \u001b[38;5;241m0\u001b[39m\n\u001b[1;32m----> 7\u001b[0m \u001b[38;5;28mprint\u001b[39m(a\u001b[38;5;241m/\u001b[39mb)\n\u001b[0;32m      8\u001b[0m \u001b[38;5;28mprint\u001b[39m(\u001b[38;5;124m\"\u001b[39m\u001b[38;5;124mThis is last line of execution.\u001b[39m\u001b[38;5;124m\"\u001b[39m)\n",
      "\u001b[1;31mZeroDivisionError\u001b[0m: division by zero"
     ]
    }
   ],
   "source": [
    "#Answer 2\n",
    "'''\n",
    "When an exception is not handled it will interupt the program and stop the execution.\n",
    "'''\n",
    "a = 10\n",
    "b = 0\n",
    "print(a/b)\n",
    "print(\"This is last line of execution.\")"
   ]
  },
  {
   "cell_type": "markdown",
   "id": "107ff564-88aa-471c-869b-cae01014986c",
   "metadata": {},
   "source": [
    "Q3. Which Python statements are used to catch and handle exceptions? Explain with an example."
   ]
  },
  {
   "cell_type": "code",
   "execution_count": 7,
   "id": "60964109-b752-4080-a6b4-cc053cce8329",
   "metadata": {},
   "outputs": [
    {
     "name": "stdout",
     "output_type": "stream",
     "text": [
      "Exception occurs : [Errno 2] No such file or directory: 'file0.txt'\n",
      "Last line\n"
     ]
    }
   ],
   "source": [
    "#Answer 3\n",
    "'''\n",
    "try-except-finally block is used to handle the exception in python.\n",
    "'''\n",
    "try:\n",
    "    f = open('file0.txt','r')\n",
    "    f.read(\"Hello\")\n",
    "except Exception as e:\n",
    "    print(\"Exception occurs :\",e)\n",
    "finally:\n",
    "    f.close()\n",
    "    print(\"Last line\")"
   ]
  },
  {
   "cell_type": "markdown",
   "id": "5473726c-b853-4c16-8301-f5441d39a659",
   "metadata": {},
   "source": [
    "Q4. Explain with an example:\n",
    "\n",
    " try and else#\n",
    " \n",
    " finally\n",
    " \n",
    " raise"
   ]
  },
  {
   "cell_type": "code",
   "execution_count": 14,
   "id": "249cd981-fca8-422f-a934-09a513b1ed45",
   "metadata": {},
   "outputs": [
    {
     "name": "stdout",
     "output_type": "stream",
     "text": [
      "5.0\n",
      "Control is in else block.\n"
     ]
    }
   ],
   "source": [
    "#Answer 4\n",
    "#try and else\n",
    "'''\n",
    "Block of code in try block will execute if does not  has exception then else will execute otherwise not.\n",
    "'''\n",
    "try:\n",
    "    print(10/2)\n",
    "except Exception as e:\n",
    "    print(\"Exception occurs : \",e)\n",
    "else:\n",
    "    print(\"Control is in else block.\")"
   ]
  },
  {
   "cell_type": "code",
   "execution_count": 16,
   "id": "fda53059-b56b-4fdf-ba0d-56095810f5fb",
   "metadata": {},
   "outputs": [
    {
     "name": "stdout",
     "output_type": "stream",
     "text": [
      "Exception occurs :  division by zero\n",
      "Control is in final block.\n"
     ]
    }
   ],
   "source": [
    "#finally\n",
    "'''\n",
    "Finally will always execute either exception occurs or not.\n",
    "'''\n",
    "try:\n",
    "    print(10/0)\n",
    "except Exception as e:\n",
    "    print(\"Exception occurs : \",e)\n",
    "finally:\n",
    "    print(\"Control is in final block.\")"
   ]
  },
  {
   "cell_type": "code",
   "execution_count": 25,
   "id": "466dad47-c230-4753-a36f-8b54f2eaa96b",
   "metadata": {},
   "outputs": [
    {
     "name": "stdin",
     "output_type": "stream",
     "text": [
      "Enter the age :  18\n"
     ]
    },
    {
     "name": "stdout",
     "output_type": "stream",
     "text": [
      "Exception occurs :  You are eligible.\n",
      "It ends.\n"
     ]
    }
   ],
   "source": [
    "#raise\n",
    "'''\n",
    "Raise is used in custon exceptions created by user.\n",
    "'''\n",
    "class ValidateAge(Exception):\n",
    "      def __init__(self, msg):\n",
    "        super().__init__(msg) \n",
    "\n",
    "def validage(age):\n",
    "    if age<18:\n",
    "        raise ValidateAge(\"You are not eligible.\")\n",
    "    elif age>=18  and age<22:\n",
    "        raise ValidateAge(\"You are eligible.\")\n",
    "    else:\n",
    "        print(\"You are old.\")\n",
    "\n",
    "\n",
    "try:\n",
    "    age = int(input(\"Enter the age : \"))\n",
    "    validage(age)\n",
    "except ValidateAge as e:\n",
    "    print(\"Exception occurs : \",e);\n",
    "finally:\n",
    "    print('It ends.')\n"
   ]
  },
  {
   "cell_type": "markdown",
   "id": "7484ab90-a01e-475b-a050-6a14974de892",
   "metadata": {},
   "source": [
    "Q5. What are Custom Exceptions in python? Why do we need Custom Exceptions? Explain with an example."
   ]
  },
  {
   "cell_type": "code",
   "execution_count": null,
   "id": "409d9749-3f19-4189-b53f-a2e5f368fd75",
   "metadata": {},
   "outputs": [],
   "source": [
    "# Answer 5\n",
    "'''\n",
    "Custom exceptions are the exceptions ehich are created by programmer as per the need.\n",
    "\n",
    "If we think that at any condition there is a exception which is not predefined so we need to create them.\n",
    "'''\n",
    "class ValidateAge(Exception):\n",
    "      def __init__(self, msg):\n",
    "        super().__init__(msg) \n",
    "\n",
    "def validage(age):\n",
    "    if age<18:\n",
    "        raise ValidateAge(\"You are child.\")\n",
    "    elif age>=18  and age<22:\n",
    "        raise ValidateAge(\"You are teenage.\")\n",
    "    else:\n",
    "        print(\"You are adult.\")\n",
    "\n",
    "\n",
    "try:\n",
    "    age = int(input(\"Enter the age : \"))\n",
    "    validage(age)\n",
    "except ValidateAge as e:\n",
    "    print(\"Exception occurs : \",e);\n",
    "finally:\n",
    "    print('It ends.')\n"
   ]
  },
  {
   "cell_type": "code",
   "execution_count": null,
   "id": "c4c7858f-4ba2-45a6-a016-4f601795bc10",
   "metadata": {},
   "outputs": [],
   "source": []
  }
 ],
 "metadata": {
  "kernelspec": {
   "display_name": "Python 3 (ipykernel)",
   "language": "python",
   "name": "python3"
  },
  "language_info": {
   "codemirror_mode": {
    "name": "ipython",
    "version": 3
   },
   "file_extension": ".py",
   "mimetype": "text/x-python",
   "name": "python",
   "nbconvert_exporter": "python",
   "pygments_lexer": "ipython3",
   "version": "3.12.7"
  }
 },
 "nbformat": 4,
 "nbformat_minor": 5
}
