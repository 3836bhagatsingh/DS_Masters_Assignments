{
 "cells": [
  {
   "cell_type": "markdown",
   "id": "c58a1e8e-1391-4e39-8abf-befb678b8abc",
   "metadata": {},
   "source": [
    "Q1. Which keyword is used to create a function? Create a function to return a list of odd numbers in the\n",
    "range of 1 to 25."
   ]
  },
  {
   "cell_type": "code",
   "execution_count": 7,
   "id": "7ba91ed7-567a-4608-82fb-ffe90e1ce832",
   "metadata": {},
   "outputs": [
    {
     "name": "stdout",
     "output_type": "stream",
     "text": [
      "[1, 3, 5, 7, 9, 11, 13, 15, 17, 19, 21, 23, 25]\n"
     ]
    }
   ],
   "source": [
    "#Answer 1- \n",
    "'''\n",
    "def is the keyword tht is used to define functions in python.\n",
    "'''\n",
    "def find_odd():\n",
    "    li = []\n",
    "    for i in range(1,26):\n",
    "        if i%2 != 0:\n",
    "            li.append(i)\n",
    "    return li\n",
    "\n",
    "odd_list =  find_odd()\n",
    "print(odd_list)"
   ]
  },
  {
   "cell_type": "markdown",
   "id": "70bf56a8-9222-45ab-a87a-b0bbe3e2ce7b",
   "metadata": {},
   "source": [
    "Q2. Why *args and **kwargs is used in some functions? Create a function each for *args and **kwargs to\n",
    "demonstrate their use."
   ]
  },
  {
   "cell_type": "code",
   "execution_count": 28,
   "id": "7b3a0142-d3c4-43b4-b00c-b0be01d5cb14",
   "metadata": {},
   "outputs": [
    {
     "name": "stdout",
     "output_type": "stream",
     "text": [
      "1 2 3 hello \n",
      "Hello world I am Bhagat Singh \n",
      "\n",
      "Key is A and corresponding value is One.\n",
      "Key is B and corresponding value is 2.\n",
      "Key is C and corresponding value is 3.9.\n",
      "Key is First and corresponding value is Hello.\n",
      "Key is Second and corresponding value is [1, 2, 3].\n",
      "Key is third and corresponding value is PWSkills.\n"
     ]
    }
   ],
   "source": [
    "# Answer 2\n",
    "\n",
    "'''\n",
    "Both keywords are used in funcution arguments when we do not know the number of parameters for a function then we use them.\n",
    "\n",
    "1 -> *args -> for normal data types\n",
    "2 -> **kwargs -> for dictionary items\n",
    "'''\n",
    "\n",
    "def normal_args(*args):\n",
    "    for i in args:\n",
    "        print(i,end =\" \")\n",
    "\n",
    "def pair_args(**kwargs):\n",
    "    for key,value in kwargs.items():\n",
    "        print(f\"Key is {key} and corresponding value is {value}.\")\n",
    "\n",
    "# Normal Arguments\n",
    "normal_args(1,2,3,\"hello\")\n",
    "print()\n",
    "normal_args(\"Hello\" ,\"world\",'I',\"am\",\"Bhagat Singh\")\n",
    "print(\"\\n\")\n",
    "\n",
    "# dictionary arguments\n",
    "pair_args(A=\"One\",B=2,C=3.9)\n",
    "pair_args(First = \"Hello\",Second=[1,2,3],third=\"PWSkills\")\n",
    "\n"
   ]
  },
  {
   "cell_type": "markdown",
   "id": "01366f8a-4748-4960-92c4-d93ae24891dc",
   "metadata": {},
   "source": [
    "Q3. What is an iterator in python? Name the method used to initialise the iterator object and the method\n",
    "used for iteration. Use these methods to print the first five elements of the given list [2, 4, 6, 8, 10, 12, 14, 16,\n",
    "18, 20]."
   ]
  },
  {
   "cell_type": "code",
   "execution_count": 35,
   "id": "b204688c-58c7-4b7a-b1d0-14ec0de326c9",
   "metadata": {},
   "outputs": [
    {
     "name": "stdout",
     "output_type": "stream",
     "text": [
      "2\n",
      "4\n",
      "6\n",
      "8\n",
      "10\n",
      "12\n",
      "14\n",
      "16\n",
      "18\n",
      "20\n"
     ]
    }
   ],
   "source": [
    "# Answer 3\n",
    "'''\n",
    "An iterator in Python is an object that contains a sequence of elements and allows traversal through them one at a time.\n",
    "iter() → Initializes an iterator object.\n",
    "\n",
    "next() → Retrieves the next element in the sequence.\n",
    "'''\n",
    "li = [2, 4, 6, 8, 10, 12, 14, 16, 18, 20]\n",
    "iterator = iter(li);\n",
    "\n",
    "print(next(iterator))\n",
    "print(next(iterator))\n",
    "print(next(iterator))\n",
    "print(next(iterator))\n",
    "print(next(iterator))\n",
    "print(next(iterator))\n",
    "print(next(iterator))\n",
    "print(next(iterator))\n",
    "print(next(iterator))\n",
    "print(next(iterator))\n",
    "\n",
    "# If we further call the print function with next(iterator) it will cause error as list is empty.\n",
    "\n"
   ]
  },
  {
   "cell_type": "markdown",
   "id": "9875a977-7e02-4c08-a7be-a6add90528c1",
   "metadata": {},
   "source": [
    "Q4. What is a generator function in python? Why yield keyword is used? Give an example of a generator\n",
    "function."
   ]
  },
  {
   "cell_type": "code",
   "execution_count": 44,
   "id": "db989bb0-54d6-4c4c-ad25-cfddf781a889",
   "metadata": {},
   "outputs": [
    {
     "name": "stdout",
     "output_type": "stream",
     "text": [
      "1\n",
      "2\n",
      "3\n",
      "4\n"
     ]
    }
   ],
   "source": [
    "#Answer 4\n",
    "'''\n",
    "Generator function in python is  the function which do not return the iterables in one go but return it in single items.\n",
    "In normal functions we use return keyword, but in generator function we use yield keyword to return the item.\n",
    "Generator functions gives memory efficient functions in complex projects.\n",
    "'''\n",
    "\n",
    "def numbers(n):\n",
    "    for num in range(1,n+1):\n",
    "        yield num \n",
    "\n",
    "li = numbers(4)\n",
    "\n",
    "print(next(li))\n",
    "print(next(li))\n",
    "print(next(li))\n",
    "print(next(li))"
   ]
  },
  {
   "cell_type": "markdown",
   "id": "2c052d09-73ea-4ead-acc0-8f7924c21ffd",
   "metadata": {},
   "source": [
    "Q5. Create a generator function for prime numbers less than 1000. Use the next() method to print the\n",
    "first 20 prime numbers."
   ]
  },
  {
   "cell_type": "code",
   "execution_count": 53,
   "id": "ffff78f4-580f-452b-b181-984ee30079d3",
   "metadata": {},
   "outputs": [
    {
     "name": "stdout",
     "output_type": "stream",
     "text": [
      "10\n",
      "12\n",
      "14\n",
      "16\n",
      "18\n",
      "20\n",
      "21\n",
      "22\n",
      "24\n",
      "26\n",
      "27\n",
      "28\n",
      "30\n",
      "32\n",
      "33\n",
      "34\n",
      "36\n",
      "38\n",
      "39\n",
      "40\n"
     ]
    }
   ],
   "source": [
    "def prime(n):\n",
    "    for i in range(2,n+2):\n",
    "        isPrime = True\n",
    "        for j in range(2,int(i ** 0.5)):\n",
    "            if i%j ==0:\n",
    "                isPrime = True\n",
    "                break\n",
    "        if isPrime:\n",
    "            yield i\n",
    "\n",
    "li = prime(1001)\n",
    "\n",
    "for i in range(20):\n",
    "    print(next(li))\n"
   ]
  },
  {
   "cell_type": "code",
   "execution_count": null,
   "id": "9b3566d4-20cb-4b39-9ee3-019f242e4ba8",
   "metadata": {},
   "outputs": [],
   "source": []
  }
 ],
 "metadata": {
  "kernelspec": {
   "display_name": "Python 3 (ipykernel)",
   "language": "python",
   "name": "python3"
  },
  "language_info": {
   "codemirror_mode": {
    "name": "ipython",
    "version": 3
   },
   "file_extension": ".py",
   "mimetype": "text/x-python",
   "name": "python",
   "nbconvert_exporter": "python",
   "pygments_lexer": "ipython3",
   "version": "3.12.7"
  }
 },
 "nbformat": 4,
 "nbformat_minor": 5
}
