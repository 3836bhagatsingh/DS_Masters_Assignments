{
 "cells": [
  {
   "cell_type": "markdown",
   "id": "9f654495-4b7f-4848-b696-775e7501c692",
   "metadata": {},
   "source": [
    "Q1. Explain Class and Object with respect to Object-Oriented Programming. Give a suitable example.\n"
   ]
  },
  {
   "cell_type": "code",
   "execution_count": 14,
   "id": "f39ee31d-80cd-4030-b157-496e3c4cde0f",
   "metadata": {},
   "outputs": [
    {
     "name": "stdout",
     "output_type": "stream",
     "text": [
      "car is Accelerating\n",
      "Car model is of 2025\n"
     ]
    },
    {
     "data": {
      "text/plain": [
       "2025"
      ]
     },
     "execution_count": 14,
     "metadata": {},
     "output_type": "execute_result"
    }
   ],
   "source": [
    "#Answer -1\n",
    "'''\n",
    "Class --> Class is the blueprint for creating objects .It define attributa and behavoiur of object.\n",
    "Eg - Car,Bike\n",
    "\n",
    "Object --> Object is a real world Entity that exists.It has attributes and behavoiurs. \n",
    "Eg - Mustang,royal Enfield\n",
    "'''\n",
    "class Car:\n",
    "    model = 2025\n",
    "    def accelerate(self):\n",
    "        print(\"car is Accelerating\")\n",
    "    def detail(self):\n",
    "        print(f\"Car model is of {self.model}\")\n",
    "\n",
    "obj = Car()   # creating object\n",
    "obj.accelerate()  #object behavoiur\n",
    "obj.detail()\n",
    "obj.model # object attribute"
   ]
  },
  {
   "cell_type": "markdown",
   "id": "4bbf65c4-fb66-4d50-9ef1-fd03098162df",
   "metadata": {},
   "source": [
    "Q2. Name the four pillars of OOPs."
   ]
  },
  {
   "cell_type": "code",
   "execution_count": null,
   "id": "ad25a16e-758f-4eb8-bf41-748ff16b4293",
   "metadata": {},
   "outputs": [],
   "source": [
    "'''\n",
    "Four pillers of oops are:-\n",
    "\n",
    "1-Encapsulation\n",
    "\n",
    "2-Inheritence\n",
    "\n",
    "3-Polymorphism\n",
    "\n",
    "4-Abstraction\n",
    "\n",
    "'''\n"
   ]
  },
  {
   "cell_type": "markdown",
   "id": "ee2b489d-4791-4988-bf42-9467909b0071",
   "metadata": {},
   "source": [
    "Q3. Explain why the __init__() function is used. Give a suitable example."
   ]
  },
  {
   "cell_type": "code",
   "execution_count": 23,
   "id": "899b948c-b6d4-41b9-8ed1-82d650bbf51f",
   "metadata": {},
   "outputs": [
    {
     "name": "stdout",
     "output_type": "stream",
     "text": [
      "Student name is Bhagat Singh id is 123 and roll numnber is 18.\n"
     ]
    }
   ],
   "source": [
    "'''\n",
    "init() --> init() function is used to define variables of class and assign values to them.It is a type of constructor.\n",
    "'''\n",
    "class Student:\n",
    "    def __init__(self,name,student_id,roll_no):\n",
    "        self.name = name\n",
    "        self.student_id = student_id\n",
    "        self.roll_no = roll_no\n",
    "    def details(self):\n",
    "        print(f\"Student name is {self.name} id is {self.student_id} and roll numnber is {self.roll_no}.\")\n",
    "\n",
    "obj = Student(\"Bhagat Singh\",123,18)\n",
    "obj.details()"
   ]
  },
  {
   "cell_type": "markdown",
   "id": "244c7d0a-8ba3-486b-aba0-be0e680259d9",
   "metadata": {},
   "source": [
    "Q4. Why self is used in OOPs?"
   ]
  },
  {
   "cell_type": "code",
   "execution_count": null,
   "id": "5b37a920-6721-4f28-9ce4-524a1486881c",
   "metadata": {},
   "outputs": [],
   "source": [
    "'''\n",
    "self --> self is used as first parameter of instance methods that refer to current instance of class.It access class variables.\n",
    "\n",
    "'''"
   ]
  },
  {
   "cell_type": "markdown",
   "id": "2e032a17-62aa-4678-8e27-a6fcd7ba79ad",
   "metadata": {},
   "source": [
    "Q5. What is inheritance? Give an example for each type of inheritance."
   ]
  },
  {
   "cell_type": "code",
   "execution_count": null,
   "id": "3ab812eb-ae3b-4155-8fa1-36187bb93535",
   "metadata": {},
   "outputs": [],
   "source": [
    "# Answer 5\n",
    "'''\n",
    "Inheritance is a key concept in Object-Oriented Programming (OOP) that allows one class (child class) to inherit the \n",
    "properties and behaviors (attributes and methods) of another class (parent class).\n",
    "'''"
   ]
  },
  {
   "cell_type": "code",
   "execution_count": 25,
   "id": "372b5a64-43a7-40e0-93eb-74598ebabf1c",
   "metadata": {},
   "outputs": [
    {
     "name": "stdout",
     "output_type": "stream",
     "text": [
      "This is Child class (Apache).\n",
      "This is Parent class (Bike).\n",
      "This is Parent class (Bike).\n"
     ]
    }
   ],
   "source": [
    "#Single Inheritence\n",
    "class Bike:\n",
    "    def parent(self):\n",
    "        print(\"This is Parent class (Bike).\")\n",
    "\n",
    "class Apache(Bike):\n",
    "    def child(self):\n",
    "        print(\"This is Child class (Apache).\")\n",
    "\n",
    "obj_child = Apache()\n",
    "obj_child.child()\n",
    "obj_child.parent()\n",
    "\n",
    "obj_parent = Bike()\n",
    "obj_parent.parent()\n",
    "\n",
    "\n"
   ]
  },
  {
   "cell_type": "code",
   "execution_count": 26,
   "id": "72adf7e3-7935-4ec2-a2a0-33cff50ce90e",
   "metadata": {},
   "outputs": [
    {
     "name": "stdout",
     "output_type": "stream",
     "text": [
      "I am children\n",
      "I am father\n",
      "I am mother\n"
     ]
    }
   ],
   "source": [
    "# multiple inheritence\n",
    "class Father:\n",
    "    def father_class(self):\n",
    "        print(\"I am father\")\n",
    "class Mother:\n",
    "    def mother_class(self):\n",
    "        print(\"I am mother\")\n",
    "class Child(Father,Mother):\n",
    "    def child_class(self):\n",
    "        print(\"I am children\")\n",
    "\n",
    "obj = Child()\n",
    "obj.child_class()\n",
    "obj.father_class()\n",
    "obj.mother_class()"
   ]
  },
  {
   "cell_type": "code",
   "execution_count": 29,
   "id": "3943a714-4643-4719-9d6a-7e287a65a606",
   "metadata": {},
   "outputs": [
    {
     "name": "stdout",
     "output_type": "stream",
     "text": [
      "I am child\n",
      "I am father\n",
      "I am grandfather\n",
      "I am father\n",
      "I am grandfather\n",
      "I am grandfather\n"
     ]
    }
   ],
   "source": [
    "#Multilevel inheritence\n",
    "class Grandfather:\n",
    "    def grandfather_class(self):\n",
    "        print(\"I am grandfather\")\n",
    "class Father(Grandfather):\n",
    "    def father_class(self):\n",
    "        print(\"I am father\")\n",
    "class Child(Father):\n",
    "    def child_class(self):\n",
    "        print(\"I am child\")\n",
    "\n",
    "obj_child = Child()\n",
    "obj_child.child_class()\n",
    "obj_child.father_class()\n",
    "obj_child.grandfather_class()\n",
    "\n",
    "obj_father = Father()\n",
    "obj_father.father_class()\n",
    "obj_father.grandfather_class()\n",
    "\n",
    "obj_grandfather = Grandfather()\n",
    "obj_grandfather.grandfather_class()"
   ]
  },
  {
   "cell_type": "code",
   "execution_count": 30,
   "id": "f32e8bb0-25f0-4a58-9624-3f9930db2b8f",
   "metadata": {},
   "outputs": [
    {
     "name": "stdout",
     "output_type": "stream",
     "text": [
      "Vehicle\n",
      "This is car.\n",
      "Vehicle\n",
      "This is Bike.\n"
     ]
    }
   ],
   "source": [
    "# \n",
    "class Vehicle:\n",
    "    def vehicle_info(self):\n",
    "        print(\"Vehicle\")\n",
    "class Car(Vehicle):\n",
    "    def car_info(self):\n",
    "        print(\"This is car.\")\n",
    "\n",
    "class Bike(Vehicle):\n",
    "    def bike_info(self):\n",
    "        print(\"This is Bike.\")\n",
    "\n",
    "\n",
    "car = Car()\n",
    "bike = Bike()\n",
    "\n",
    "car.vehicle_info()  \n",
    "car.car_info()      \n",
    "\n",
    "bike.vehicle_info()\n",
    "bike.bike_info()     \n"
   ]
  },
  {
   "cell_type": "code",
   "execution_count": null,
   "id": "fde19c64-d196-4591-8322-b448a99176de",
   "metadata": {},
   "outputs": [],
   "source": []
  }
 ],
 "metadata": {
  "kernelspec": {
   "display_name": "Python 3 (ipykernel)",
   "language": "python",
   "name": "python3"
  },
  "language_info": {
   "codemirror_mode": {
    "name": "ipython",
    "version": 3
   },
   "file_extension": ".py",
   "mimetype": "text/x-python",
   "name": "python",
   "nbconvert_exporter": "python",
   "pygments_lexer": "ipython3",
   "version": "3.12.7"
  }
 },
 "nbformat": 4,
 "nbformat_minor": 5
}
