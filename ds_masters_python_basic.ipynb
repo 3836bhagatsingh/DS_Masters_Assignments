{
 "cells": [
  {
   "cell_type": "markdown",
   "id": "f52fbc04-261a-4527-8585-f420dc93d2c5",
   "metadata": {},
   "source": [
    "                                                            Data Science masters Assignment 1"
   ]
  },
  {
   "cell_type": "markdown",
   "id": "dbbf5697-7110-433c-88c1-3c19be3cb2cd",
   "metadata": {},
   "source": [
    "Q1. Create one variable containing following type of data:\n",
    "(i) string\n",
    "(ii) list\n",
    "(iii) float\n",
    "(iv) tuple\n"
   ]
  },
  {
   "cell_type": "code",
   "execution_count": 36,
   "id": "7903e95e-395a-442f-8203-6baf343b5348",
   "metadata": {},
   "outputs": [
    {
     "name": "stdout",
     "output_type": "stream",
     "text": [
      "hello sir <class 'str'>\n",
      "[1, 2, 3, 'Pw Skills', 5.4, (8+7j)] <class 'list'>\n",
      "4.53 <class 'float'>\n",
      "(1, 2, [2, 3, 4]) <class 'tuple'>\n"
     ]
    }
   ],
   "source": [
    "# Answwer 1\n",
    "s = \"hello sir\"\n",
    "l = [1,2,3,\"Pw Skills\",5.4,8+7j]\n",
    "f  = 4.53\n",
    "t = (1,2,[2,3,4])\n",
    "print(s , type(s))\n",
    "print(l , type(l))\n",
    "print(f ,type(f))\n",
    "print(t , type(t))"
   ]
  },
  {
   "cell_type": "code",
   "execution_count": null,
   "id": "6d97c462-1fcd-463e-93d2-07169dfcb5d4",
   "metadata": {},
   "outputs": [],
   "source": []
  },
  {
   "cell_type": "code",
   "execution_count": null,
   "id": "20aa82ce-e696-40bb-acca-d92aeeb29709",
   "metadata": {},
   "outputs": [],
   "source": []
  },
  {
   "cell_type": "code",
   "execution_count": null,
   "id": "c04eac19-e3df-4807-81c4-2d0b953d4302",
   "metadata": {},
   "outputs": [],
   "source": []
  },
  {
   "cell_type": "markdown",
   "id": "950dcdac-eff8-4294-acd0-327b7c9b78fd",
   "metadata": {},
   "source": [
    "Q2. Given are some following variables containing data:\n",
    "(i) var1 = ‘ ‘\n",
    "(ii) var2 = ‘[ DS , ML , Python]’\n",
    "(iii) var3 = [ ‘DS’ , ’ML’ , ‘Python’ ]\n",
    "(iv) var4 = 1.\n",
    "What will be the data type of the above given variable."
   ]
  },
  {
   "cell_type": "code",
   "execution_count": 40,
   "id": "b3c46619-a935-4d2f-a373-952903124874",
   "metadata": {},
   "outputs": [
    {
     "name": "stdout",
     "output_type": "stream",
     "text": [
      "<class 'str'>\n",
      "<class 'str'>\n",
      "<class 'list'>\n",
      "<class 'int'>\n"
     ]
    }
   ],
   "source": [
    "#Answer 2\n",
    "var1 = ' '\n",
    "var2 = '[ DS , ML , Python]'\n",
    "var3 = ['D' , 'ML' , 'Python']\n",
    "var4 = 1\n",
    "print(type(var1))\n",
    "print(type(var2))\n",
    "print(type(var3))\n",
    "print(type(var4))"
   ]
  },
  {
   "cell_type": "code",
   "execution_count": null,
   "id": "91ac0806-10af-44cc-a8a5-5e40aa96026f",
   "metadata": {},
   "outputs": [],
   "source": []
  },
  {
   "cell_type": "code",
   "execution_count": null,
   "id": "1a8d1584-ae46-4371-ba10-737d32f6235e",
   "metadata": {},
   "outputs": [],
   "source": []
  },
  {
   "cell_type": "code",
   "execution_count": null,
   "id": "bb016913-b90b-420a-a69a-8226b84097b2",
   "metadata": {},
   "outputs": [],
   "source": []
  },
  {
   "cell_type": "markdown",
   "id": "bb8936f5-69ae-418f-b906-dca769c3a561",
   "metadata": {},
   "source": [
    "Q3. Explain the use of the following operators using an example:\n",
    "(i) /\n",
    "(ii) %\n",
    "(iii) //\n",
    "(iv) **"
   ]
  },
  {
   "cell_type": "code",
   "execution_count": 42,
   "id": "d3757ec5-7ef4-4227-8b95-7e5dcec4d0a1",
   "metadata": {},
   "outputs": [
    {
     "name": "stdout",
     "output_type": "stream",
     "text": [
      "5.0\n",
      "0\n",
      "5\n",
      "144\n"
     ]
    }
   ],
   "source": [
    "# Answer 3\n",
    "# (i) This operator is use to divide two operands.This gives output of float type.\n",
    "print(10/2)\n",
    "# (ii) This operator is use to find remainder between two operands.\n",
    "print(10%2)\n",
    "# (iii) This operator is use for integeral division two operands.This gives output of Integer type.\n",
    "print(10//2)\n",
    "# (iv) This operator is use to find exponentiation or power.\n",
    "print(12**2)"
   ]
  },
  {
   "cell_type": "code",
   "execution_count": null,
   "id": "065008ed-79b0-469d-be7b-fa49699b04fd",
   "metadata": {},
   "outputs": [],
   "source": []
  },
  {
   "cell_type": "code",
   "execution_count": null,
   "id": "101f26a6-7b6a-4cef-a446-c6b7853ee137",
   "metadata": {},
   "outputs": [],
   "source": []
  },
  {
   "cell_type": "code",
   "execution_count": null,
   "id": "1a780f32-e05e-4dd3-8d71-c87eb9d224bb",
   "metadata": {},
   "outputs": [],
   "source": []
  },
  {
   "cell_type": "markdown",
   "id": "2fe6f89e-ef1c-45bd-bcce-d00161ff3dbb",
   "metadata": {},
   "source": [
    "Q4. Create a list of length 10 of your choice containing multiple types of data. Using for loop print the\n",
    "element and its data type."
   ]
  },
  {
   "cell_type": "code",
   "execution_count": 43,
   "id": "f8d6875b-96d4-4f80-a2b8-35944802cd3f",
   "metadata": {},
   "outputs": [
    {
     "name": "stdout",
     "output_type": "stream",
     "text": [
      "The element is 1 and its datatype is <class 'int'>.\n",
      "The element is 2 and its datatype is <class 'int'>.\n",
      "The element is 3 and its datatype is <class 'int'>.\n",
      "The element is PW and its datatype is <class 'str'>.\n",
      "The element is 4 and its datatype is <class 'int'>.\n",
      "The element is 4.6 and its datatype is <class 'float'>.\n",
      "The element is Skills and its datatype is <class 'str'>.\n",
      "The element is (7+9j) and its datatype is <class 'complex'>.\n",
      "The element is True and its datatype is <class 'bool'>.\n",
      "The element is False and its datatype is <class 'bool'>.\n"
     ]
    }
   ],
   "source": [
    "# Answer 4\n",
    "li = [1,2,3,\"PW\",4,4.6,\"Skills\",7+9j,True,False]\n",
    "for i in li:\n",
    "    print(f\"The element is {i} and its datatype is {type(i)}.\")"
   ]
  },
  {
   "cell_type": "code",
   "execution_count": null,
   "id": "a293da72-c7c2-4082-b695-94414ebb56dd",
   "metadata": {},
   "outputs": [],
   "source": []
  },
  {
   "cell_type": "code",
   "execution_count": null,
   "id": "66948c2b-170d-41f7-8faa-2df8948d06db",
   "metadata": {},
   "outputs": [],
   "source": []
  },
  {
   "cell_type": "code",
   "execution_count": null,
   "id": "937bae2a-b7af-4af6-abce-7c25cfd3f543",
   "metadata": {},
   "outputs": [],
   "source": []
  },
  {
   "cell_type": "markdown",
   "id": "3a695092-640c-40cc-bad1-75ce3c4abbbc",
   "metadata": {},
   "source": [
    "Q5. Using a while loop, verify if the number A is purely divisible by number B and if so then how many\n",
    "times it can be divisible."
   ]
  },
  {
   "cell_type": "code",
   "execution_count": 50,
   "id": "154568d6-63b0-42a1-a6b4-7e8eef345013",
   "metadata": {},
   "outputs": [
    {
     "name": "stdin",
     "output_type": "stream",
     "text": [
      "Enter the number a 32\n",
      "Enter the number b 2\n"
     ]
    },
    {
     "name": "stdout",
     "output_type": "stream",
     "text": [
      "Number of times divisible is  5\n"
     ]
    }
   ],
   "source": [
    "# Answer 5\n",
    "a = int(input(\"Enter the number a\"))\n",
    "b = int(input(\"Enter the number b\"))\n",
    "count=0\n",
    "if a%b!=0:\n",
    "    print(\"Not Divisible\")\n",
    "else:\n",
    "    while(a%b==0):\n",
    "        count = count+1\n",
    "        a = a//b\n",
    "    print(\"Number of times divisible is \", count)\n"
   ]
  },
  {
   "cell_type": "code",
   "execution_count": null,
   "id": "158330b2-ae3c-48c9-bf6e-bd73d47f53b3",
   "metadata": {},
   "outputs": [],
   "source": []
  },
  {
   "cell_type": "code",
   "execution_count": null,
   "id": "442a19f0-529e-426c-b896-23b4b618b9a9",
   "metadata": {},
   "outputs": [],
   "source": []
  },
  {
   "cell_type": "code",
   "execution_count": null,
   "id": "64f83764-8909-46c4-9f9f-4f8ff613e7aa",
   "metadata": {},
   "outputs": [],
   "source": []
  },
  {
   "cell_type": "markdown",
   "id": "7ceae139-734e-4888-a77e-380ee32d2dea",
   "metadata": {},
   "source": [
    "Q6. Create a list containing 25 int type data. Using for loop and if-else condition print if the element is\n",
    "divisible by 3 or not."
   ]
  },
  {
   "cell_type": "code",
   "execution_count": 52,
   "id": "b8a0dd05-72b0-4702-a6c6-c38247081d41",
   "metadata": {},
   "outputs": [
    {
     "name": "stdout",
     "output_type": "stream",
     "text": [
      "Element 1 is not divisible by 3.\n",
      "Element 2 is not divisible by 3.\n",
      "Element 3 is divisible  by 3.\n",
      "Element 4 is not divisible by 3.\n",
      "Element 5 is not divisible by 3.\n",
      "Element 6 is divisible  by 3.\n",
      "Element 7 is not divisible by 3.\n",
      "Element 8 is not divisible by 3.\n",
      "Element 9 is divisible  by 3.\n",
      "Element 10 is not divisible by 3.\n",
      "Element 11 is not divisible by 3.\n",
      "Element 12 is divisible  by 3.\n",
      "Element 13 is not divisible by 3.\n",
      "Element 14 is not divisible by 3.\n",
      "Element 15 is divisible  by 3.\n",
      "Element 16 is not divisible by 3.\n",
      "Element 17 is not divisible by 3.\n",
      "Element 18 is divisible  by 3.\n",
      "Element 19 is not divisible by 3.\n",
      "Element 20 is not divisible by 3.\n",
      "Element 21 is divisible  by 3.\n",
      "Element 22 is not divisible by 3.\n",
      "Element 23 is not divisible by 3.\n",
      "Element 24 is divisible  by 3.\n",
      "Element 25 is not divisible by 3.\n"
     ]
    }
   ],
   "source": [
    "li = [1,2,3,4,5,6,7,8,9,10,11,12,13,14,15,16,17,18,19,20,21,22,23,24,25]\n",
    "for i in li:\n",
    "    if(i%3==0):\n",
    "        print(f\"Element {i} is divisible  by 3.\")\n",
    "    else:\n",
    "        print(f\"Element {i} is not divisible by 3.\")"
   ]
  },
  {
   "cell_type": "code",
   "execution_count": null,
   "id": "96f8562d-dd28-4b2a-8d6b-de0bbba18a07",
   "metadata": {},
   "outputs": [],
   "source": []
  },
  {
   "cell_type": "code",
   "execution_count": null,
   "id": "9e475b3c-698b-4b86-a922-ae715eafe4aa",
   "metadata": {},
   "outputs": [],
   "source": []
  },
  {
   "cell_type": "code",
   "execution_count": null,
   "id": "5ad13f3a-888f-4224-a8bb-9bc653f67ce3",
   "metadata": {},
   "outputs": [],
   "source": []
  },
  {
   "cell_type": "markdown",
   "id": "1370d092-327a-4b6a-86c7-4e3fc7dccb86",
   "metadata": {},
   "source": [
    "Q7. What do you understand about mutable and immutable data types? Give examples for both showing\n",
    "this property."
   ]
  },
  {
   "cell_type": "code",
   "execution_count": 56,
   "id": "fce5bb55-4a9f-47a3-9a75-0d491d040005",
   "metadata": {},
   "outputs": [
    {
     "name": "stdout",
     "output_type": "stream",
     "text": [
      "Before updation  [1, 1, 2, 3, 4, 5]\n",
      "After updation  [0, 1, 2, 3, 4, 5]\n"
     ]
    },
    {
     "ename": "TypeError",
     "evalue": "'str' object does not support item assignment",
     "output_type": "error",
     "traceback": [
      "\u001b[1;31m---------------------------------------------------------------------------\u001b[0m",
      "\u001b[1;31mTypeError\u001b[0m                                 Traceback (most recent call last)",
      "Cell \u001b[1;32mIn[56], line 10\u001b[0m\n\u001b[0;32m      8\u001b[0m \u001b[38;5;28mprint\u001b[39m(\u001b[38;5;124m\"\u001b[39m\u001b[38;5;124mAfter updation \u001b[39m\u001b[38;5;124m\"\u001b[39m,li)\n\u001b[0;32m      9\u001b[0m s \u001b[38;5;241m=\u001b[39m \u001b[38;5;124m\"\u001b[39m\u001b[38;5;124mHello\u001b[39m\u001b[38;5;124m\"\u001b[39m\n\u001b[1;32m---> 10\u001b[0m s[\u001b[38;5;241m0\u001b[39m] \u001b[38;5;241m=\u001b[39m \u001b[38;5;124m'\u001b[39m\u001b[38;5;124mG\u001b[39m\u001b[38;5;124m'\u001b[39m\n\u001b[0;32m     11\u001b[0m \u001b[38;5;28mprint\u001b[39m(s)\n",
      "\u001b[1;31mTypeError\u001b[0m: 'str' object does not support item assignment"
     ]
    }
   ],
   "source": [
    "#Answer 7\n",
    "# Mutable Data types --> Data types whose content can be changed after initialisation are mutable data types.\n",
    "#Immutable data types --> Data types whose content can not be changed after intialisation are immutable data types.\n",
    "li = [1,1,2,3,4,5]\n",
    "\n",
    "print(\"Before updation \",li)\n",
    "li[0] = 0\n",
    "print(\"After updation \",li)\n",
    "s = \"Hello\"\n",
    "print(s)\n",
    "s[0] = 'G'\n",
    "print(s)    # showing error as it can not be changed"
   ]
  },
  {
   "cell_type": "code",
   "execution_count": null,
   "id": "2324f24a-5647-4153-94fb-dd450c3fa9e4",
   "metadata": {},
   "outputs": [],
   "source": []
  }
 ],
 "metadata": {
  "kernelspec": {
   "display_name": "Python 3 (ipykernel)",
   "language": "python",
   "name": "python3"
  },
  "language_info": {
   "codemirror_mode": {
    "name": "ipython",
    "version": 3
   },
   "file_extension": ".py",
   "mimetype": "text/x-python",
   "name": "python",
   "nbconvert_exporter": "python",
   "pygments_lexer": "ipython3",
   "version": "3.12.7"
  }
 },
 "nbformat": 4,
 "nbformat_minor": 5
}
