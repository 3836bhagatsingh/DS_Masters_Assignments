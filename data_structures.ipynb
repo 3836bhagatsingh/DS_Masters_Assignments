{
 "cells": [
  {
   "cell_type": "markdown",
   "id": "9abc4c52-e843-488c-8754-0029e26a2722",
   "metadata": {},
   "source": [
    "Q1. How do you comment code in Python? What are the different types of comments?"
   ]
  },
  {
   "cell_type": "code",
   "execution_count": null,
   "id": "85e85966-7fc7-46bd-9238-2aa9f6d7e06f",
   "metadata": {},
   "outputs": [],
   "source": [
    "# Answer 1\n",
    "# Comments are the pice in the code which are got ignored.\n",
    "# Single Line comment --> this line itself is a single line comment.\n",
    "\n",
    "'''\n",
    "This is multiple line comments.\n",
    "'''"
   ]
  },
  {
   "cell_type": "markdown",
   "id": "e06708d5-5c1e-4ebb-a5e7-1a35b067a368",
   "metadata": {},
   "source": [
    "Q2. What are variables in Python? How do you declare and assign values to variables?"
   ]
  },
  {
   "cell_type": "code",
   "execution_count": 75,
   "id": "78fe472f-fc2d-486c-8e26-be26e6dd301e",
   "metadata": {},
   "outputs": [
    {
     "name": "stdout",
     "output_type": "stream",
     "text": [
      "10 2.3 Hello (4+8j)\n"
     ]
    }
   ],
   "source": [
    "# Answewr 2\n",
    "# Variables --> Variables are like containers which store value of different data type.\n",
    "a = 10\n",
    "b = 2.3\n",
    "c = \"Hello\"\n",
    "d = 4+8j\n",
    "print(a , b, c, d)"
   ]
  },
  {
   "cell_type": "markdown",
   "id": "ee825002-0c8f-4239-a976-6d8fbeb44168",
   "metadata": {},
   "source": [
    "Q3. How do you convert one data type to another in Python?"
   ]
  },
  {
   "cell_type": "code",
   "execution_count": 80,
   "id": "21f36578-4b14-41b5-8979-60671cfdb6f2",
   "metadata": {},
   "outputs": [
    {
     "name": "stdout",
     "output_type": "stream",
     "text": [
      "20.0\n",
      "8\n"
     ]
    }
   ],
   "source": [
    "#Answer 3\n",
    "#Using typecasting we can convert variables of one datatype to another datatype.\n",
    "\n",
    "# 1 - Inplicit Typecasting -> Typecasting done by python internally.\n",
    "# Example\n",
    "a = 10\n",
    "a = a + 10.0\n",
    "print(a) # a got converted into float\n",
    "\n",
    "# 2 - Explicit Typecasting --> Typecasting done by programmer explicitly.\n",
    "s = \"3\"\n",
    "b = int(s) + 5 # s got converted into integer value explicitly\n",
    "print(b)"
   ]
  },
  {
   "cell_type": "markdown",
   "id": "337e549e-48f1-4b0d-847c-4ef385b8882e",
   "metadata": {},
   "source": [
    "Q4. How do you write and execute a Python script from the command line?"
   ]
  },
  {
   "cell_type": "code",
   "execution_count": null,
   "id": "4286a1a1-5abf-4c1b-b0a4-9d7dec7e94ab",
   "metadata": {},
   "outputs": [],
   "source": [
    "'''\n",
    "Step 1- Write a python script in an editor and save it with .py extension.\n",
    "\n",
    "Step 2- Open cmd.\n",
    "\n",
    "Step 3- Navigate to folder in which python file is located.\n",
    "\n",
    "Step 4- Type command python file_name.py\n",
    "\n",
    "Step 5- See the desired output.\n",
    "\n",
    "\n",
    "'''"
   ]
  },
  {
   "cell_type": "markdown",
   "id": "21ed937b-5aa8-4ecc-8658-2cbced4df620",
   "metadata": {},
   "source": [
    "Q5. Given a list my_list = [1, 2, 3, 4, 5], write the code to slice the list and obtain the sub-list [2, 3]."
   ]
  },
  {
   "cell_type": "markdown",
   "id": "93595a6a-cdaf-4875-8cd2-4970695e4557",
   "metadata": {},
   "source": [
    "# Answer 5-\n",
    "my_list = [1,2,3,4,5]\n",
    "new_list = my_list[1:3]\n",
    "print(new_list)"
   ]
  },
  {
   "cell_type": "markdown",
   "id": "268fa0a6-9b12-443e-af02-1cb6218b573b",
   "metadata": {},
   "source": [
    "Q6. What is a complex number in mathematics, and how is it represented in Python?"
   ]
  },
  {
   "cell_type": "code",
   "execution_count": 6,
   "id": "75c6996b-a375-4754-a855-4fc6bd2c4aed",
   "metadata": {},
   "outputs": [
    {
     "name": "stdout",
     "output_type": "stream",
     "text": [
      "(5+6j)\n",
      "5.0\n",
      "6.0\n"
     ]
    }
   ],
   "source": [
    "#Answer 6- \n",
    "'''\n",
    "Complex Number --> Complex number in python are numbers that has real and imaginary part.\n",
    "'''\n",
    "com = 5 + 6j\n",
    "print(com)\n",
    "print(com.real) # real part\n",
    "print(com.imag) # imaginary part\n"
   ]
  },
  {
   "cell_type": "markdown",
   "id": "4736c960-e019-4a51-aba0-5837a4882829",
   "metadata": {},
   "source": [
    "Q7. What is the correct way to declare a variable named age and assign the value 25 to it?"
   ]
  },
  {
   "cell_type": "code",
   "execution_count": 8,
   "id": "3d707df2-1e67-4c9a-9f93-bc5499830ee0",
   "metadata": {},
   "outputs": [
    {
     "name": "stdout",
     "output_type": "stream",
     "text": [
      "Age is 25.\n"
     ]
    }
   ],
   "source": [
    "age = 25\n",
    "print(f\"Age is {age}.\")"
   ]
  },
  {
   "cell_type": "markdown",
   "id": "e3d4040a-e621-4abd-b05b-b3802efb9077",
   "metadata": {},
   "source": [
    "Q8. Declare a variable named price and assign the value 9.99 to it. What data type does this variable\n",
    "belong to?"
   ]
  },
  {
   "cell_type": "code",
   "execution_count": 9,
   "id": "eae97b9c-aabc-4d36-a4e4-660dab746d26",
   "metadata": {},
   "outputs": [
    {
     "name": "stdout",
     "output_type": "stream",
     "text": [
      "9.99\n",
      "<class 'float'>\n"
     ]
    }
   ],
   "source": [
    "price = 9.99\n",
    "print(price)\n",
    "print(type(price))"
   ]
  },
  {
   "cell_type": "markdown",
   "id": "1ff65569-9843-4be9-bf77-7f813038620d",
   "metadata": {},
   "source": [
    "Q9. Create a variable named name and assign your full name to it as a string. How would you print the\n",
    "value of this variable?"
   ]
  },
  {
   "cell_type": "code",
   "execution_count": 10,
   "id": "789f7f94-8d56-4563-8906-eba46103ed23",
   "metadata": {},
   "outputs": [
    {
     "name": "stdout",
     "output_type": "stream",
     "text": [
      "Bhagat Singh\n",
      "<class 'str'>\n"
     ]
    }
   ],
   "source": [
    "name = \"Bhagat Singh\"\n",
    "print(name)\n",
    "print(type(name))"
   ]
  },
  {
   "cell_type": "markdown",
   "id": "81a768f2-5f3b-4706-be53-837eef3be73e",
   "metadata": {},
   "source": [
    "Q10. Given the string \"Hello, World!\", extract the substring \"World\"."
   ]
  },
  {
   "cell_type": "code",
   "execution_count": 15,
   "id": "a70216cc-bb5e-4677-b2a1-db2deab06b83",
   "metadata": {},
   "outputs": [
    {
     "data": {
      "text/plain": [
       "'World'"
      ]
     },
     "execution_count": 15,
     "metadata": {},
     "output_type": "execute_result"
    }
   ],
   "source": [
    "s = \"Hello, World!\"\n",
    "li = list(s.split(\" \"))\n",
    "li[1][0:5]"
   ]
  },
  {
   "cell_type": "markdown",
   "id": "c1b62f3b-3dde-4d43-9c51-82d711879e09",
   "metadata": {},
   "source": [
    "Q11. Create a variable named \"is_student\" and assign it a boolean value indicating whether you are\n",
    "currently a student or not."
   ]
  },
  {
   "cell_type": "code",
   "execution_count": 16,
   "id": "528e9467-a4f4-4f79-94a0-d6c441355220",
   "metadata": {},
   "outputs": [
    {
     "name": "stdout",
     "output_type": "stream",
     "text": [
      "Yes,I am a student.\n"
     ]
    }
   ],
   "source": [
    "is_student  = True\n",
    "if is_student:\n",
    "    print(\"Yes,I am a student.\")\n",
    "else:\n",
    "    print(\"No,i am not a student.\")"
   ]
  },
  {
   "cell_type": "code",
   "execution_count": null,
   "id": "5aae99e5-db85-4246-b369-63d8bef12b05",
   "metadata": {},
   "outputs": [],
   "source": []
  }
 ],
 "metadata": {
  "kernelspec": {
   "display_name": "Python 3 (ipykernel)",
   "language": "python",
   "name": "python3"
  },
  "language_info": {
   "codemirror_mode": {
    "name": "ipython",
    "version": 3
   },
   "file_extension": ".py",
   "mimetype": "text/x-python",
   "name": "python",
   "nbconvert_exporter": "python",
   "pygments_lexer": "ipython3",
   "version": "3.12.7"
  }
 },
 "nbformat": 4,
 "nbformat_minor": 5
}
