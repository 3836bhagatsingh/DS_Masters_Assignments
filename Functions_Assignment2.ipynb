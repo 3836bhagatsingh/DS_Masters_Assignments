{
 "cells": [
  {
   "cell_type": "markdown",
   "id": "8747ae17-50d7-48e7-ac6f-675ae87f8631",
   "metadata": {},
   "source": [
    "Q1. Create a python program to sort the given list of tuples based on integer value using a\n",
    "lambda function."
   ]
  },
  {
   "cell_type": "code",
   "execution_count": 3,
   "id": "54d4de10-fda1-448e-885a-3b30c2dd2e5a",
   "metadata": {},
   "outputs": [
    {
     "name": "stdout",
     "output_type": "stream",
     "text": [
      "[('Virat Kohli', 24936), ('Jack Kallis', 25534), ('Ricky Ponting', 27483), ('Sachin Tendulkar', 34357)]\n"
     ]
    }
   ],
   "source": [
    "li = [('Sachin Tendulkar', 34357), ('Ricky Ponting', 27483), ('Jack Kallis', 25534), ('Virat Kohli', 24936)]\n",
    "sorted_li = sorted(li,key =lambda x :x[1])\n",
    "print(sorted_li)"
   ]
  },
  {
   "cell_type": "markdown",
   "id": "51386605-d115-43fe-bdc3-c8791eef0ef1",
   "metadata": {},
   "source": [
    "Q2. Write a Python Program to find the squares of all the numbers in the given list of integers using\n",
    "lambda and map functions."
   ]
  },
  {
   "cell_type": "code",
   "execution_count": 6,
   "id": "a1f41991-4fb8-4e6d-a5be-179203a06ec7",
   "metadata": {},
   "outputs": [
    {
     "name": "stdout",
     "output_type": "stream",
     "text": [
      "[1, 4, 9, 16, 25, 36, 49, 64, 81, 100]\n"
     ]
    }
   ],
   "source": [
    "li = [1, 2, 3, 4, 5, 6, 7, 8, 9, 10]\n",
    "new_li = list(map(lambda x: x**2,li))\n",
    "print(new_li)"
   ]
  },
  {
   "cell_type": "markdown",
   "id": "97c18408-f4d4-4f4d-bdae-ecd63eeb75f6",
   "metadata": {},
   "source": [
    "Q3. Write a python program to convert the given list of integers into a tuple of strings. Use map and\n",
    "lambda functions"
   ]
  },
  {
   "cell_type": "code",
   "execution_count": 8,
   "id": "c7e37961-e12f-4968-9c74-f0b86136c485",
   "metadata": {},
   "outputs": [
    {
     "name": "stdout",
     "output_type": "stream",
     "text": [
      "('1', '2', '3', '4', '5', '6', '7', '8', '9', '10')\n"
     ]
    }
   ],
   "source": [
    "li = [1, 2, 3, 4, 5, 6, 7, 8, 9, 10]\n",
    "new_li = tuple(map(lambda x: str(x),li))\n",
    "print(new_li)"
   ]
  },
  {
   "cell_type": "markdown",
   "id": "c4317d55-1249-4894-9793-348f89d4b629",
   "metadata": {},
   "source": [
    "Q4. Write a python program using reduce function to compute the product of a list containing numbers\n",
    "from 1 to 25."
   ]
  },
  {
   "cell_type": "code",
   "execution_count": 10,
   "id": "6c50bd30-18a1-47ec-aa03-d059344775f1",
   "metadata": {},
   "outputs": [
    {
     "name": "stdout",
     "output_type": "stream",
     "text": [
      "15511210043330985984000000\n"
     ]
    }
   ],
   "source": [
    "from functools import  reduce\n",
    "li = list(range(1,26))\n",
    "ans = reduce(lambda x,y:x*y , li)\n",
    "print(ans)"
   ]
  },
  {
   "cell_type": "markdown",
   "id": "a73a8487-102b-434c-8ab1-82493f39fcdf",
   "metadata": {},
   "source": [
    "Q5. Write a python program to filter the numbers in a given list that are divisible by 2 and 3 using the\n",
    "filter function."
   ]
  },
  {
   "cell_type": "code",
   "execution_count": 12,
   "id": "b4e2c7fc-b7c4-4c16-bd45-9f42d8024d4d",
   "metadata": {},
   "outputs": [
    {
     "name": "stdout",
     "output_type": "stream",
     "text": [
      "[6, 60, 90, 120]\n"
     ]
    }
   ],
   "source": [
    "li = [2, 3, 6, 9, 27, 60, 90, 120, 55, 46]\n",
    "ans = list(filter(lambda x:x%2==0 and x%3==0,li))\n",
    "print(ans)"
   ]
  },
  {
   "cell_type": "markdown",
   "id": "822a0d48-0510-41d4-a1df-589e78a567ad",
   "metadata": {},
   "source": [
    "Q6. Write a python program to find palindromes in the given list of strings using lambda and filter\n",
    "function."
   ]
  },
  {
   "cell_type": "code",
   "execution_count": 16,
   "id": "7c4bab1a-0182-43fa-a23f-70fcbc926519",
   "metadata": {},
   "outputs": [
    {
     "name": "stdout",
     "output_type": "stream",
     "text": [
      "['php', 'aba', 'radar', 'level']\n"
     ]
    }
   ],
   "source": [
    "def palindrome(s):\n",
    "    return s == \"\".join(reversed(s))\n",
    "    \n",
    "li = ['python', 'php', 'aba', 'radar', 'level']\n",
    "ans = list(filter(lambda x:palindrome(x)==True,li))\n",
    "print(ans)"
   ]
  },
  {
   "cell_type": "code",
   "execution_count": null,
   "id": "25325eb7-b5e1-4697-b9cc-cbecc5df7f6d",
   "metadata": {},
   "outputs": [],
   "source": []
  }
 ],
 "metadata": {
  "kernelspec": {
   "display_name": "Python 3 (ipykernel)",
   "language": "python",
   "name": "python3"
  },
  "language_info": {
   "codemirror_mode": {
    "name": "ipython",
    "version": 3
   },
   "file_extension": ".py",
   "mimetype": "text/x-python",
   "name": "python",
   "nbconvert_exporter": "python",
   "pygments_lexer": "ipython3",
   "version": "3.12.7"
  }
 },
 "nbformat": 4,
 "nbformat_minor": 5
}
